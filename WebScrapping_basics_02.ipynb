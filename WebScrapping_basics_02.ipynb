{
 "cells": [
  {
   "cell_type": "code",
   "execution_count": 1,
   "metadata": {},
   "outputs": [],
   "source": [
    "import requests\n",
    "from bs4 import BeautifulSoup"
   ]
  },
  {
   "cell_type": "code",
   "execution_count": 3,
   "metadata": {},
   "outputs": [
    {
     "name": "stdout",
     "output_type": "stream",
     "text": [
      "<div class=\"tombstone-container\">\n",
      " <p class=\"period-name\">\n",
      "  This\n",
      "  <br/>\n",
      "  Afternoon\n",
      " </p>\n",
      " <p>\n",
      "  <img alt=\"This Afternoon: Rain.  Steady temperature around 56. Southwest wind 11 to 13 mph.  Chance of precipitation is 90%. New precipitation amounts between a tenth and quarter of an inch possible. \" class=\"forecast-icon\" src=\"newimages/medium/ra90.png\" title=\"This Afternoon: Rain.  Steady temperature around 56. Southwest wind 11 to 13 mph.  Chance of precipitation is 90%. New precipitation amounts between a tenth and quarter of an inch possible. \"/>\n",
      " </p>\n",
      " <p class=\"short-desc\">\n",
      "  Rain\n",
      " </p>\n",
      " <p class=\"temp temp-high\">\n",
      "  High: 56 °F\n",
      " </p>\n",
      "</div>\n"
     ]
    }
   ],
   "source": [
    "page = requests.get(\"http://forecast.weather.gov/MapClick.php?lat=37.7772&lon=-122.4168\")\n",
    "soup = BeautifulSoup(page.content, 'html.parser')\n",
    "seven_day = soup.find(id=\"seven-day-forecast\")\n",
    "forecast_items = seven_day.find_all(class_=\"tombstone-container\")\n",
    "tonight = forecast_items[0]\n",
    "print(tonight.prettify())"
   ]
  },
  {
   "cell_type": "code",
   "execution_count": 4,
   "metadata": {},
   "outputs": [
    {
     "name": "stdout",
     "output_type": "stream",
     "text": [
      "ThisAfternoon\n",
      "Rain\n",
      "High: 56 °F\n"
     ]
    }
   ],
   "source": [
    "period = tonight.find(class_=\"period-name\").get_text()\n",
    "short_desc = tonight.find(class_ = \"short-desc\").get_text()\n",
    "temp = tonight.find(class_=\"temp\").get_text()\n",
    "print(period)\n",
    "print(short_desc)\n",
    "print(temp)"
   ]
  },
  {
   "cell_type": "code",
   "execution_count": 5,
   "metadata": {},
   "outputs": [
    {
     "name": "stdout",
     "output_type": "stream",
     "text": [
      "This Afternoon: Rain.  Steady temperature around 56. Southwest wind 11 to 13 mph.  Chance of precipitation is 90%. New precipitation amounts between a tenth and quarter of an inch possible. \n"
     ]
    }
   ],
   "source": [
    "img = tonight.find(\"img\")\n",
    "desc = img['title']\n",
    "print(desc)"
   ]
  },
  {
   "cell_type": "code",
   "execution_count": 6,
   "metadata": {},
   "outputs": [
    {
     "data": {
      "text/plain": [
       "['ThisAfternoon',\n",
       " 'Tonight',\n",
       " 'Sunday',\n",
       " 'SundayNight',\n",
       " 'Monday',\n",
       " 'MondayNight',\n",
       " 'Tuesday',\n",
       " 'TuesdayNight',\n",
       " 'Wednesday']"
      ]
     },
     "execution_count": 6,
     "metadata": {},
     "output_type": "execute_result"
    }
   ],
   "source": [
    "period_tags = seven_day.select(\".tombstone-container .period-name\")\n",
    "periods = [pt.get_text() for pt in period_tags]\n",
    "periods"
   ]
  },
  {
   "cell_type": "code",
   "execution_count": 8,
   "metadata": {},
   "outputs": [
    {
     "name": "stdout",
     "output_type": "stream",
     "text": [
      "['Rain', 'Rain', 'Rain thenRain Likely', 'Chance Rain', 'Chance Rain', 'Slight ChanceRain thenPartly Cloudy', 'Mostly Sunny', 'Mostly Clear', 'Mostly Sunny']\n",
      "['High: 56 °F', 'Low: 51 °F', 'High: 54 °F', 'Low: 47 °F', 'High: 57 °F', 'Low: 47 °F', 'High: 60 °F', 'Low: 49 °F', 'High: 64 °F']\n",
      "['This Afternoon: Rain.  Steady temperature around 56. Southwest wind 11 to 13 mph.  Chance of precipitation is 90%. New precipitation amounts between a tenth and quarter of an inch possible. ', 'Tonight: Rain.  Low around 51. South southwest wind 8 to 11 mph.  Chance of precipitation is 80%. New precipitation amounts of less than a tenth of an inch possible. ', 'Sunday: Rain.  Steady temperature around 54. South wind 8 to 15 mph, with gusts as high as 28 mph.  Chance of precipitation is 100%. New precipitation amounts between a tenth and quarter of an inch possible. ', 'Sunday Night: A 40 percent chance of rain.  Mostly cloudy, with a low around 47. West wind 5 to 9 mph becoming calm  after midnight.  New precipitation amounts of less than a tenth of an inch possible. ', 'Monday: A 50 percent chance of rain.  Partly sunny, with a high near 57. Northeast wind 3 to 7 mph.  New precipitation amounts of less than a tenth of an inch possible. ', 'Monday Night: A 20 percent chance of rain before 11pm.  Mostly cloudy, with a low around 47.', 'Tuesday: Mostly sunny, with a high near 60.', 'Tuesday Night: Mostly clear, with a low around 49.', 'Wednesday: Mostly sunny, with a high near 64.']\n"
     ]
    }
   ],
   "source": [
    "short_descs = [sd.get_text() for sd in seven_day.select(\".tombstone-container .short-desc\")]\n",
    "temps = [t.get_text() for t in seven_day.select(\".tombstone-container .temp\")]\n",
    "descs = [d[\"title\"] for d in seven_day.select(\".tombstone-container img\")]\n",
    "print(short_descs)\n",
    "print(temps)\n",
    "print(descs)"
   ]
  },
  {
   "cell_type": "code",
   "execution_count": 9,
   "metadata": {},
   "outputs": [
    {
     "data": {
      "text/html": [
       "<div>\n",
       "<style scoped>\n",
       "    .dataframe tbody tr th:only-of-type {\n",
       "        vertical-align: middle;\n",
       "    }\n",
       "\n",
       "    .dataframe tbody tr th {\n",
       "        vertical-align: top;\n",
       "    }\n",
       "\n",
       "    .dataframe thead th {\n",
       "        text-align: right;\n",
       "    }\n",
       "</style>\n",
       "<table border=\"1\" class=\"dataframe\">\n",
       "  <thead>\n",
       "    <tr style=\"text-align: right;\">\n",
       "      <th></th>\n",
       "      <th>period</th>\n",
       "      <th>short_desc</th>\n",
       "      <th>temp</th>\n",
       "      <th>desc</th>\n",
       "    </tr>\n",
       "  </thead>\n",
       "  <tbody>\n",
       "    <tr>\n",
       "      <th>0</th>\n",
       "      <td>ThisAfternoon</td>\n",
       "      <td>Rain</td>\n",
       "      <td>High: 56 °F</td>\n",
       "      <td>This Afternoon: Rain.  Steady temperature arou...</td>\n",
       "    </tr>\n",
       "    <tr>\n",
       "      <th>1</th>\n",
       "      <td>Tonight</td>\n",
       "      <td>Rain</td>\n",
       "      <td>Low: 51 °F</td>\n",
       "      <td>Tonight: Rain.  Low around 51. South southwest...</td>\n",
       "    </tr>\n",
       "    <tr>\n",
       "      <th>2</th>\n",
       "      <td>Sunday</td>\n",
       "      <td>Rain thenRain Likely</td>\n",
       "      <td>High: 54 °F</td>\n",
       "      <td>Sunday: Rain.  Steady temperature around 54. S...</td>\n",
       "    </tr>\n",
       "    <tr>\n",
       "      <th>3</th>\n",
       "      <td>SundayNight</td>\n",
       "      <td>Chance Rain</td>\n",
       "      <td>Low: 47 °F</td>\n",
       "      <td>Sunday Night: A 40 percent chance of rain.  Mo...</td>\n",
       "    </tr>\n",
       "    <tr>\n",
       "      <th>4</th>\n",
       "      <td>Monday</td>\n",
       "      <td>Chance Rain</td>\n",
       "      <td>High: 57 °F</td>\n",
       "      <td>Monday: A 50 percent chance of rain.  Partly s...</td>\n",
       "    </tr>\n",
       "    <tr>\n",
       "      <th>5</th>\n",
       "      <td>MondayNight</td>\n",
       "      <td>Slight ChanceRain thenPartly Cloudy</td>\n",
       "      <td>Low: 47 °F</td>\n",
       "      <td>Monday Night: A 20 percent chance of rain befo...</td>\n",
       "    </tr>\n",
       "    <tr>\n",
       "      <th>6</th>\n",
       "      <td>Tuesday</td>\n",
       "      <td>Mostly Sunny</td>\n",
       "      <td>High: 60 °F</td>\n",
       "      <td>Tuesday: Mostly sunny, with a high near 60.</td>\n",
       "    </tr>\n",
       "    <tr>\n",
       "      <th>7</th>\n",
       "      <td>TuesdayNight</td>\n",
       "      <td>Mostly Clear</td>\n",
       "      <td>Low: 49 °F</td>\n",
       "      <td>Tuesday Night: Mostly clear, with a low around...</td>\n",
       "    </tr>\n",
       "    <tr>\n",
       "      <th>8</th>\n",
       "      <td>Wednesday</td>\n",
       "      <td>Mostly Sunny</td>\n",
       "      <td>High: 64 °F</td>\n",
       "      <td>Wednesday: Mostly sunny, with a high near 64.</td>\n",
       "    </tr>\n",
       "  </tbody>\n",
       "</table>\n",
       "</div>"
      ],
      "text/plain": [
       "          period                           short_desc         temp  \\\n",
       "0  ThisAfternoon                                 Rain  High: 56 °F   \n",
       "1        Tonight                                 Rain   Low: 51 °F   \n",
       "2         Sunday                 Rain thenRain Likely  High: 54 °F   \n",
       "3    SundayNight                          Chance Rain   Low: 47 °F   \n",
       "4         Monday                          Chance Rain  High: 57 °F   \n",
       "5    MondayNight  Slight ChanceRain thenPartly Cloudy   Low: 47 °F   \n",
       "6        Tuesday                         Mostly Sunny  High: 60 °F   \n",
       "7   TuesdayNight                         Mostly Clear   Low: 49 °F   \n",
       "8      Wednesday                         Mostly Sunny  High: 64 °F   \n",
       "\n",
       "                                                desc  \n",
       "0  This Afternoon: Rain.  Steady temperature arou...  \n",
       "1  Tonight: Rain.  Low around 51. South southwest...  \n",
       "2  Sunday: Rain.  Steady temperature around 54. S...  \n",
       "3  Sunday Night: A 40 percent chance of rain.  Mo...  \n",
       "4  Monday: A 50 percent chance of rain.  Partly s...  \n",
       "5  Monday Night: A 20 percent chance of rain befo...  \n",
       "6        Tuesday: Mostly sunny, with a high near 60.  \n",
       "7  Tuesday Night: Mostly clear, with a low around...  \n",
       "8      Wednesday: Mostly sunny, with a high near 64.  "
      ]
     },
     "execution_count": 9,
     "metadata": {},
     "output_type": "execute_result"
    }
   ],
   "source": [
    "import pandas as pd\n",
    "weather = pd.DataFrame({\n",
    "    \"period\": periods,\n",
    "    \"short_desc\": short_descs,\n",
    "    \"temp\": temps,\n",
    "    \"desc\":descs\n",
    "})\n",
    "weather"
   ]
  },
  {
   "cell_type": "code",
   "execution_count": null,
   "metadata": {},
   "outputs": [],
   "source": []
  }
 ],
 "metadata": {
  "kernelspec": {
   "display_name": "Python 3",
   "language": "python",
   "name": "python3"
  },
  "language_info": {
   "codemirror_mode": {
    "name": "ipython",
    "version": 3
   },
   "file_extension": ".py",
   "mimetype": "text/x-python",
   "name": "python",
   "nbconvert_exporter": "python",
   "pygments_lexer": "ipython3",
   "version": "3.7.6"
  }
 },
 "nbformat": 4,
 "nbformat_minor": 4
}
